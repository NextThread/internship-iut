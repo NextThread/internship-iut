{
 "cells": [
  {
   "cell_type": "code",
   "execution_count": 4,
   "id": "ccbe9359",
   "metadata": {
    "execution": {
     "iopub.execute_input": "2022-05-04T11:03:42.557996Z",
     "iopub.status.busy": "2022-05-04T11:03:42.557111Z",
     "iopub.status.idle": "2022-05-04T11:03:44.675552Z",
     "shell.execute_reply": "2022-05-04T11:03:44.674688Z"
    },
    "papermill": {
     "duration": 2.140498,
     "end_time": "2022-05-04T11:03:44.678191",
     "exception": false,
     "start_time": "2022-05-04T11:03:42.537693",
     "status": "completed"
    },
    "tags": []
   },
   "outputs": [],
   "source": [
    "# %pip install pandas\n",
    "# %pip install plotly\n",
    "import os\n",
    "import numpy as np \n",
    "import pandas as pd\n",
    "\n",
    "import glob\n",
    "import itertools\n",
    "\n",
    "import matplotlib.pyplot as plt\n",
    "import numpy as np \n",
    "import pandas as pd\n",
    "import plotly.express as px\n",
    "import seaborn\n",
    "\n",
    "import warnings\n",
    "warnings.filterwarnings('ignore')\n",
    "\n",
    "%matplotlib inline\n",
    "\n",
    "DATA_PATH = \"input/\""
   ]
  },
  {
   "cell_type": "code",
   "execution_count": 5,
   "id": "63610b1c",
   "metadata": {
    "execution": {
     "iopub.execute_input": "2022-05-04T11:03:44.717277Z",
     "iopub.status.busy": "2022-05-04T11:03:44.717008Z",
     "iopub.status.idle": "2022-05-04T11:03:44.854160Z",
     "shell.execute_reply": "2022-05-04T11:03:44.853265Z"
    },
    "papermill": {
     "duration": 0.16033,
     "end_time": "2022-05-04T11:03:44.856606",
     "exception": false,
     "start_time": "2022-05-04T11:03:44.696276",
     "status": "completed"
    },
    "tags": []
   },
   "outputs": [
    {
     "data": {
      "text/html": [
       "<div>\n",
       "<style scoped>\n",
       "    .dataframe tbody tr th:only-of-type {\n",
       "        vertical-align: middle;\n",
       "    }\n",
       "\n",
       "    .dataframe tbody tr th {\n",
       "        vertical-align: top;\n",
       "    }\n",
       "\n",
       "    .dataframe thead th {\n",
       "        text-align: right;\n",
       "    }\n",
       "</style>\n",
       "<table border=\"1\" class=\"dataframe\">\n",
       "  <thead>\n",
       "    <tr style=\"text-align: right;\">\n",
       "      <th></th>\n",
       "      <th>tripId</th>\n",
       "      <th>UnixTimeMillis</th>\n",
       "      <th>LatitudeDegrees</th>\n",
       "      <th>LongitudeDegrees</th>\n",
       "    </tr>\n",
       "  </thead>\n",
       "  <tbody>\n",
       "    <tr>\n",
       "      <th>0</th>\n",
       "      <td>2021-04-28-US-MTV-2/sensor4</td>\n",
       "      <td>1619650832999</td>\n",
       "      <td>37.395828</td>\n",
       "      <td>-122.102968</td>\n",
       "    </tr>\n",
       "    <tr>\n",
       "      <th>1</th>\n",
       "      <td>2021-04-28-US-MTV-2/sensor4</td>\n",
       "      <td>1619650833999</td>\n",
       "      <td>37.395851</td>\n",
       "      <td>-122.102986</td>\n",
       "    </tr>\n",
       "    <tr>\n",
       "      <th>2</th>\n",
       "      <td>2021-04-28-US-MTV-2/sensor4</td>\n",
       "      <td>1619650834999</td>\n",
       "      <td>37.395835</td>\n",
       "      <td>-122.103001</td>\n",
       "    </tr>\n",
       "    <tr>\n",
       "      <th>3</th>\n",
       "      <td>2021-04-28-US-MTV-2/sensor4</td>\n",
       "      <td>1619650835999</td>\n",
       "      <td>37.395848</td>\n",
       "      <td>-122.102960</td>\n",
       "    </tr>\n",
       "    <tr>\n",
       "      <th>4</th>\n",
       "      <td>2021-04-28-US-MTV-2/sensor4</td>\n",
       "      <td>1619650836999</td>\n",
       "      <td>37.395875</td>\n",
       "      <td>-122.103001</td>\n",
       "    </tr>\n",
       "  </tbody>\n",
       "</table>\n",
       "</div>"
      ],
      "text/plain": [
       "                        tripId  UnixTimeMillis  LatitudeDegrees  \\\n",
       "0  2021-04-28-US-MTV-2/sensor4   1619650832999        37.395828   \n",
       "1  2021-04-28-US-MTV-2/sensor4   1619650833999        37.395851   \n",
       "2  2021-04-28-US-MTV-2/sensor4   1619650834999        37.395835   \n",
       "3  2021-04-28-US-MTV-2/sensor4   1619650835999        37.395848   \n",
       "4  2021-04-28-US-MTV-2/sensor4   1619650836999        37.395875   \n",
       "\n",
       "   LongitudeDegrees  \n",
       "0       -122.102968  \n",
       "1       -122.102986  \n",
       "2       -122.103001  \n",
       "3       -122.102960  \n",
       "4       -122.103001  "
      ]
     },
     "execution_count": 5,
     "metadata": {},
     "output_type": "execute_result"
    }
   ],
   "source": [
    "sub = pd.read_csv(\"submission.csv\")\n",
    "sub.head()"
   ]
  },
  {
   "cell_type": "code",
   "execution_count": 6,
   "id": "b077c606",
   "metadata": {
    "execution": {
     "iopub.execute_input": "2022-05-04T11:03:44.895991Z",
     "iopub.status.busy": "2022-05-04T11:03:44.895268Z",
     "iopub.status.idle": "2022-05-04T11:03:44.920505Z",
     "shell.execute_reply": "2022-05-04T11:03:44.919561Z"
    },
    "papermill": {
     "duration": 0.047253,
     "end_time": "2022-05-04T11:03:44.922907",
     "exception": false,
     "start_time": "2022-05-04T11:03:44.875654",
     "status": "completed"
    },
    "tags": []
   },
   "outputs": [],
   "source": [
    "#df_sample_trail = pd.read_csv(DATA_PATH + \"train/2020-05-15-US-MTV-1/GooglePixel4XL/device_gnss.csv\")\n",
    "df_sample_trail_gt = pd.read_csv(\"input/sensor2/ground_truth.csv\")"
   ]
  },
  {
   "cell_type": "code",
   "execution_count": 7,
   "id": "6ce98ded",
   "metadata": {
    "execution": {
     "iopub.execute_input": "2022-05-04T11:03:44.963236Z",
     "iopub.status.busy": "2022-05-04T11:03:44.962688Z",
     "iopub.status.idle": "2022-05-04T11:03:44.977705Z",
     "shell.execute_reply": "2022-05-04T11:03:44.976890Z"
    },
    "papermill": {
     "duration": 0.037697,
     "end_time": "2022-05-04T11:03:44.979830",
     "exception": false,
     "start_time": "2022-05-04T11:03:44.942133",
     "status": "completed"
    },
    "tags": []
   },
   "outputs": [
    {
     "data": {
      "text/html": [
       "<div>\n",
       "<style scoped>\n",
       "    .dataframe tbody tr th:only-of-type {\n",
       "        vertical-align: middle;\n",
       "    }\n",
       "\n",
       "    .dataframe tbody tr th {\n",
       "        vertical-align: top;\n",
       "    }\n",
       "\n",
       "    .dataframe thead th {\n",
       "        text-align: right;\n",
       "    }\n",
       "</style>\n",
       "<table border=\"1\" class=\"dataframe\">\n",
       "  <thead>\n",
       "    <tr style=\"text-align: right;\">\n",
       "      <th></th>\n",
       "      <th>MessageType</th>\n",
       "      <th>Provider</th>\n",
       "      <th>LatitudeDegrees</th>\n",
       "      <th>LongitudeDegrees</th>\n",
       "      <th>AltitudeMeters</th>\n",
       "      <th>SpeedMps</th>\n",
       "      <th>AccuracyMeters</th>\n",
       "      <th>BearingDegrees</th>\n",
       "      <th>UnixTimeMillis</th>\n",
       "    </tr>\n",
       "  </thead>\n",
       "  <tbody>\n",
       "    <tr>\n",
       "      <th>0</th>\n",
       "      <td>Fix</td>\n",
       "      <td>GT</td>\n",
       "      <td>37.416619</td>\n",
       "      <td>-122.082065</td>\n",
       "      <td>NaN</td>\n",
       "      <td>0.002044</td>\n",
       "      <td>0.1</td>\n",
       "      <td>92.968750</td>\n",
       "      <td>1589573679445</td>\n",
       "    </tr>\n",
       "    <tr>\n",
       "      <th>1</th>\n",
       "      <td>Fix</td>\n",
       "      <td>GT</td>\n",
       "      <td>37.416619</td>\n",
       "      <td>-122.082065</td>\n",
       "      <td>NaN</td>\n",
       "      <td>0.002198</td>\n",
       "      <td>0.1</td>\n",
       "      <td>92.969666</td>\n",
       "      <td>1589573680445</td>\n",
       "    </tr>\n",
       "    <tr>\n",
       "      <th>2</th>\n",
       "      <td>Fix</td>\n",
       "      <td>GT</td>\n",
       "      <td>37.416619</td>\n",
       "      <td>-122.082065</td>\n",
       "      <td>NaN</td>\n",
       "      <td>0.001414</td>\n",
       "      <td>0.1</td>\n",
       "      <td>92.969850</td>\n",
       "      <td>1589573681445</td>\n",
       "    </tr>\n",
       "    <tr>\n",
       "      <th>3</th>\n",
       "      <td>Fix</td>\n",
       "      <td>GT</td>\n",
       "      <td>37.416619</td>\n",
       "      <td>-122.082065</td>\n",
       "      <td>NaN</td>\n",
       "      <td>0.001414</td>\n",
       "      <td>0.1</td>\n",
       "      <td>92.969850</td>\n",
       "      <td>1589573682445</td>\n",
       "    </tr>\n",
       "    <tr>\n",
       "      <th>4</th>\n",
       "      <td>Fix</td>\n",
       "      <td>GT</td>\n",
       "      <td>37.416619</td>\n",
       "      <td>-122.082065</td>\n",
       "      <td>NaN</td>\n",
       "      <td>0.001414</td>\n",
       "      <td>0.1</td>\n",
       "      <td>92.969910</td>\n",
       "      <td>1589573683445</td>\n",
       "    </tr>\n",
       "    <tr>\n",
       "      <th>5</th>\n",
       "      <td>Fix</td>\n",
       "      <td>GT</td>\n",
       "      <td>37.416619</td>\n",
       "      <td>-122.082065</td>\n",
       "      <td>NaN</td>\n",
       "      <td>0.001780</td>\n",
       "      <td>0.1</td>\n",
       "      <td>92.969880</td>\n",
       "      <td>1589573684445</td>\n",
       "    </tr>\n",
       "  </tbody>\n",
       "</table>\n",
       "</div>"
      ],
      "text/plain": [
       "  MessageType Provider  LatitudeDegrees  LongitudeDegrees  AltitudeMeters  \\\n",
       "0         Fix       GT        37.416619       -122.082065             NaN   \n",
       "1         Fix       GT        37.416619       -122.082065             NaN   \n",
       "2         Fix       GT        37.416619       -122.082065             NaN   \n",
       "3         Fix       GT        37.416619       -122.082065             NaN   \n",
       "4         Fix       GT        37.416619       -122.082065             NaN   \n",
       "5         Fix       GT        37.416619       -122.082065             NaN   \n",
       "\n",
       "   SpeedMps  AccuracyMeters  BearingDegrees  UnixTimeMillis  \n",
       "0  0.002044             0.1       92.968750   1589573679445  \n",
       "1  0.002198             0.1       92.969666   1589573680445  \n",
       "2  0.001414             0.1       92.969850   1589573681445  \n",
       "3  0.001414             0.1       92.969850   1589573682445  \n",
       "4  0.001414             0.1       92.969910   1589573683445  \n",
       "5  0.001780             0.1       92.969880   1589573684445  "
      ]
     },
     "execution_count": 7,
     "metadata": {},
     "output_type": "execute_result"
    }
   ],
   "source": [
    "df_sample_trail_gt.head(6)"
   ]
  },
  {
   "cell_type": "code",
   "execution_count": 8,
   "id": "c8d3982c",
   "metadata": {
    "execution": {
     "iopub.execute_input": "2022-05-04T11:03:45.019881Z",
     "iopub.status.busy": "2022-05-04T11:03:45.019355Z",
     "iopub.status.idle": "2022-05-04T11:03:45.022794Z",
     "shell.execute_reply": "2022-05-04T11:03:45.022157Z"
    },
    "papermill": {
     "duration": 0.025575,
     "end_time": "2022-05-04T11:03:45.024544",
     "exception": false,
     "start_time": "2022-05-04T11:03:44.998969",
     "status": "completed"
    },
    "tags": []
   },
   "outputs": [],
   "source": [
    "FILE_NAME = 'sensor2'"
   ]
  },
  {
   "cell_type": "code",
   "execution_count": 9,
   "id": "c1d7f338",
   "metadata": {
    "execution": {
     "iopub.execute_input": "2022-05-04T11:03:45.064793Z",
     "iopub.status.busy": "2022-05-04T11:03:45.064274Z",
     "iopub.status.idle": "2022-05-04T11:03:45.069243Z",
     "shell.execute_reply": "2022-05-04T11:03:45.068719Z"
    },
    "papermill": {
     "duration": 0.027553,
     "end_time": "2022-05-04T11:03:45.071262",
     "exception": false,
     "start_time": "2022-05-04T11:03:45.043709",
     "status": "completed"
    },
    "tags": []
   },
   "outputs": [],
   "source": [
    "def visualize_trafic(df, center, zoom=8):\n",
    "    fig = px.scatter_mapbox(df,\n",
    "                            zoom=zoom,\n",
    "                            center=center,\n",
    "                            \n",
    "                            lat=\"LatitudeDegrees\",\n",
    "                            lon=\"LongitudeDegrees\",\n",
    "                            color=\"MessageType\",\n",
    "                            labels='Provider',\n",
    "                            \n",
    "                            height=600,\n",
    "                            width=800)\n",
    "    fig.update_layout(mapbox_style='stamen-terrain')\n",
    "    fig.show()"
   ]
  },
  {
   "cell_type": "code",
   "execution_count": 10,
   "id": "70f12592",
   "metadata": {},
   "outputs": [
    {
     "name": "stdout",
     "output_type": "stream",
     "text": [
      "Requirement already satisfied: nbformat in c:\\users\\royan\\appdata\\local\\programs\\python\\python310\\lib\\site-packages (5.9.0)\n",
      "Collecting nbformat\n",
      "  Downloading nbformat-5.9.1-py3-none-any.whl (77 kB)\n",
      "                                              0.0/77.6 kB ? eta -:--:--\n",
      "     ---------------                          30.7/77.6 kB 1.3 MB/s eta 0:00:01\n",
      "     ------------------------------         61.4/77.6 kB 825.8 kB/s eta 0:00:01\n",
      "     -------------------------------------- 77.6/77.6 kB 716.4 kB/s eta 0:00:00\n",
      "Requirement already satisfied: fastjsonschema in c:\\users\\royan\\appdata\\local\\programs\\python\\python310\\lib\\site-packages (from nbformat) (2.17.1)\n",
      "Requirement already satisfied: jsonschema>=2.6 in c:\\users\\royan\\appdata\\local\\programs\\python\\python310\\lib\\site-packages (from nbformat) (4.17.3)\n",
      "Requirement already satisfied: jupyter-core in c:\\users\\royan\\appdata\\roaming\\python\\python310\\site-packages (from nbformat) (5.3.1)\n",
      "Requirement already satisfied: traitlets>=5.1 in c:\\users\\royan\\appdata\\roaming\\python\\python310\\site-packages (from nbformat) (5.9.0)\n",
      "Requirement already satisfied: attrs>=17.4.0 in c:\\users\\royan\\appdata\\local\\programs\\python\\python310\\lib\\site-packages (from jsonschema>=2.6->nbformat) (23.1.0)\n",
      "Requirement already satisfied: pyrsistent!=0.17.0,!=0.17.1,!=0.17.2,>=0.14.0 in c:\\users\\royan\\appdata\\local\\programs\\python\\python310\\lib\\site-packages (from jsonschema>=2.6->nbformat) (0.19.3)\n",
      "Requirement already satisfied: platformdirs>=2.5 in c:\\users\\royan\\appdata\\local\\programs\\python\\python310\\lib\\site-packages (from jupyter-core->nbformat) (3.9.1)\n",
      "Requirement already satisfied: pywin32>=300 in c:\\users\\royan\\appdata\\roaming\\python\\python310\\site-packages (from jupyter-core->nbformat) (306)\n",
      "Installing collected packages: nbformat\n",
      "  Attempting uninstall: nbformat\n",
      "    Found existing installation: nbformat 5.9.0\n",
      "    Uninstalling nbformat-5.9.0:\n",
      "      Successfully uninstalled nbformat-5.9.0\n",
      "Successfully installed nbformat-5.9.1\n",
      "Note: you may need to restart the kernel to use updated packages.\n"
     ]
    },
    {
     "name": "stderr",
     "output_type": "stream",
     "text": [
      "\n",
      "[notice] A new release of pip is available: 23.1.2 -> 23.2.1\n",
      "[notice] To update, run: python.exe -m pip install --upgrade pip\n"
     ]
    }
   ],
   "source": [
    "%pip install --upgrade nbformat"
   ]
  },
  {
   "cell_type": "code",
   "execution_count": 11,
   "id": "fcaeee2b",
   "metadata": {
    "execution": {
     "iopub.execute_input": "2022-05-04T11:03:45.112284Z",
     "iopub.status.busy": "2022-05-04T11:03:45.111771Z",
     "iopub.status.idle": "2022-05-04T11:03:46.248396Z",
     "shell.execute_reply": "2022-05-04T11:03:46.247508Z"
    },
    "papermill": {
     "duration": 1.160096,
     "end_time": "2022-05-04T11:03:46.251530",
     "exception": false,
     "start_time": "2022-05-04T11:03:45.091434",
     "status": "completed"
    },
    "tags": []
   },
   "outputs": [],
   "source": [
    "# %pip install --upgrade nbformat\n",
    "# import nbformat\n",
    "df_sample_trail_gt = pd.read_csv(\"input/sensor2/ground_truth.csv\".format(FILE_NAME))\n",
    "\n",
    "center = {\"lat\":37.42, \"lon\":-122.1}\n",
    "# visualize_trafic(df_sample_trail_gt, center)"
   ]
  },
  {
   "cell_type": "code",
   "execution_count": 12,
   "id": "b822314d",
   "metadata": {
    "execution": {
     "iopub.execute_input": "2022-05-04T11:03:46.297522Z",
     "iopub.status.busy": "2022-05-04T11:03:46.296949Z",
     "iopub.status.idle": "2022-05-04T11:03:46.302952Z",
     "shell.execute_reply": "2022-05-04T11:03:46.302276Z"
    },
    "papermill": {
     "duration": 0.031256,
     "end_time": "2022-05-04T11:03:46.304997",
     "exception": false,
     "start_time": "2022-05-04T11:03:46.273741",
     "status": "completed"
    },
    "tags": []
   },
   "outputs": [],
   "source": [
    "#Borrowed from prev. competition notebook\n",
    "def add_lack_data(data, phoneNames, collectionNames):\n",
    "    result = []\n",
    "    for collectionName in collectionNames:\n",
    "        for phoneName in phoneNames:\n",
    "            if [collectionName, phoneName] in data:\n",
    "                result.append([collectionName, phoneName, 1])\n",
    "            else:\n",
    "                result.append([collectionName, phoneName, 0])\n",
    "    return result"
   ]
  },
  {
   "cell_type": "code",
   "execution_count": 13,
   "id": "e06193c1",
   "metadata": {
    "execution": {
     "iopub.execute_input": "2022-05-04T11:03:46.351140Z",
     "iopub.status.busy": "2022-05-04T11:03:46.350663Z",
     "iopub.status.idle": "2022-05-04T11:03:46.567118Z",
     "shell.execute_reply": "2022-05-04T11:03:46.566431Z"
    },
    "papermill": {
     "duration": 0.242299,
     "end_time": "2022-05-04T11:03:46.569317",
     "exception": false,
     "start_time": "2022-05-04T11:03:46.327018",
     "status": "completed"
    },
    "tags": []
   },
   "outputs": [],
   "source": [
    "train_phones = glob.glob(\"input/sensor2/*\")\n",
    "test_phones = glob.glob(\"input/sensor2/*\")\n",
    "train_data = [item.split(\"/\")[-2:] for item in train_phones]\n",
    "test_data = [item.split(\"/\")[-2:] for item in test_phones]"
   ]
  },
  {
   "cell_type": "code",
   "execution_count": 14,
   "id": "7dcb3afd",
   "metadata": {
    "execution": {
     "iopub.execute_input": "2022-05-04T11:03:46.615955Z",
     "iopub.status.busy": "2022-05-04T11:03:46.615407Z",
     "iopub.status.idle": "2022-05-04T11:03:46.621138Z",
     "shell.execute_reply": "2022-05-04T11:03:46.620611Z"
    },
    "papermill": {
     "duration": 0.03091,
     "end_time": "2022-05-04T11:03:46.622874",
     "exception": false,
     "start_time": "2022-05-04T11:03:46.591964",
     "status": "completed"
    },
    "tags": []
   },
   "outputs": [],
   "source": [
    "phoneNames = [item.split(\"/\")[-1:] for item in train_phones] + [item.split(\"/\")[-1:] for item in test_phones]\n",
    "phoneNames = set(list(itertools.chain.from_iterable(phoneNames)))\n",
    "collectionNames = [item.split(\"/\")[-2] for item in train_phones] + [item.split(\"/\")[-2] for item in test_phones]"
   ]
  },
  {
   "cell_type": "code",
   "execution_count": 15,
   "id": "ec752ab4",
   "metadata": {
    "execution": {
     "iopub.execute_input": "2022-05-04T11:03:46.669518Z",
     "iopub.status.busy": "2022-05-04T11:03:46.668928Z",
     "iopub.status.idle": "2022-05-04T11:03:46.686176Z",
     "shell.execute_reply": "2022-05-04T11:03:46.685464Z"
    },
    "papermill": {
     "duration": 0.043644,
     "end_time": "2022-05-04T11:03:46.688363",
     "exception": false,
     "start_time": "2022-05-04T11:03:46.644719",
     "status": "completed"
    },
    "tags": []
   },
   "outputs": [],
   "source": [
    "train_data = add_lack_data(train_data, phoneNames, collectionNames)\n",
    "test_data = add_lack_data(test_data, phoneNames, collectionNames)\n",
    "train_data = pd.DataFrame(train_data, columns=[\"collectionNames\", \"phoneNames\", \"count\"])\n",
    "test_data = pd.DataFrame(test_data, columns=[\"collectionNames\", \"phoneNames\", \"count\"])"
   ]
  },
  {
   "cell_type": "code",
   "execution_count": 16,
   "id": "5985739b",
   "metadata": {
    "execution": {
     "iopub.execute_input": "2022-05-04T11:03:46.734105Z",
     "iopub.status.busy": "2022-05-04T11:03:46.733815Z",
     "iopub.status.idle": "2022-05-04T11:04:33.343067Z",
     "shell.execute_reply": "2022-05-04T11:04:33.342260Z"
    },
    "papermill": {
     "duration": 46.635966,
     "end_time": "2022-05-04T11:04:33.346264",
     "exception": false,
     "start_time": "2022-05-04T11:03:46.710298",
     "status": "completed"
    },
    "tags": []
   },
   "outputs": [
    {
     "data": {
      "image/png": "[encoded data removed]",
      "text/plain": [
       "<Figure size 2000x3000 with 2 Axes>"
      ]
     },
     "metadata": {},
     "output_type": "display_data"
    },
    {
     "data": {
      "image/png": "[encoded data removed]",
      "text/plain": [
       "<Figure size 2000x3000 with 2 Axes>"
      ]
     },
     "metadata": {},
     "output_type": "display_data"
    },
    {
     "data": {
      "image/png": "[encoded data removed]",
      "text/plain": [
       "<Figure size 2000x3000 with 2 Axes>"
      ]
     },
     "metadata": {},
     "output_type": "display_data"
    }
   ],
   "source": [
    "for phoneName in phoneNames:\n",
    "    fig, axes = plt.subplots(1, 2, figsize=(20,30))\n",
    "    # plt.subplots_adjust(wspace=0.3, hspace=0.5)\n",
    "    g1 = seaborn.barplot(data=train_data[train_data[\"phoneNames\"] == phoneName],\n",
    "                         x=\"count\", y=\"collectionNames\", ax=axes[0])\n",
    "    g1.set_title(f\"{phoneName} in train data\")\n",
    "    g2 = seaborn.barplot(data=test_data[test_data[\"phoneNames\"] == phoneName],\n",
    "                         x=\"count\", y=\"collectionNames\", ax=axes[1])\n",
    "    g2.set_title(f\"{phoneName} in test data\")"
   ]
  },
  {
   "cell_type": "code",
   "execution_count": 17,
   "id": "7f078641",
   "metadata": {
    "execution": {
     "iopub.execute_input": "2022-05-04T11:04:33.451939Z",
     "iopub.status.busy": "2022-05-04T11:04:33.451527Z",
     "iopub.status.idle": "2022-05-04T11:04:34.041183Z",
     "shell.execute_reply": "2022-05-04T11:04:34.040209Z"
    },
    "papermill": {
     "duration": 0.645416,
     "end_time": "2022-05-04T11:04:34.043599",
     "exception": false,
     "start_time": "2022-05-04T11:04:33.398183",
     "status": "completed"
    },
    "tags": []
   },
   "outputs": [
    {
     "name": "stdout",
     "output_type": "stream",
     "text": [
      "Requirement already satisfied: geopandas in c:\\users\\royan\\appdata\\local\\programs\\python\\python310\\lib\\site-packages (0.13.2)\n",
      "Requirement already satisfied: fiona>=1.8.19 in c:\\users\\royan\\appdata\\local\\programs\\python\\python310\\lib\\site-packages (from geopandas) (1.9.4.post1)\n",
      "Requirement already satisfied: packaging in c:\\users\\royan\\appdata\\roaming\\python\\python310\\site-packages (from geopandas) (23.1)\n",
      "Requirement already satisfied: pandas>=1.1.0 in c:\\users\\royan\\appdata\\local\\programs\\python\\python310\\lib\\site-packages (from geopandas) (2.0.3)\n",
      "Requirement already satisfied: pyproj>=3.0.1 in c:\\users\\royan\\appdata\\local\\programs\\python\\python310\\lib\\site-packages (from geopandas) (3.6.0)\n",
      "Requirement already satisfied: shapely>=1.7.1 in c:\\users\\royan\\appdata\\local\\programs\\python\\python310\\lib\\site-packages (from geopandas) (2.0.1)\n",
      "Requirement already satisfied: attrs>=19.2.0 in c:\\users\\royan\\appdata\\local\\programs\\python\\python310\\lib\\site-packages (from fiona>=1.8.19->geopandas) (23.1.0)\n",
      "Requirement already satisfied: certifi in c:\\users\\royan\\appdata\\local\\programs\\python\\python310\\lib\\site-packages (from fiona>=1.8.19->geopandas) (2018.8.24)\n",
      "Requirement already satisfied: click~=8.0 in c:\\users\\royan\\appdata\\local\\programs\\python\\python310\\lib\\site-packages (from fiona>=1.8.19->geopandas) (8.1.3)\n",
      "Requirement already satisfied: click-plugins>=1.0 in c:\\users\\royan\\appdata\\local\\programs\\python\\python310\\lib\\site-packages (from fiona>=1.8.19->geopandas) (1.1.1)\n",
      "Requirement already satisfied: cligj>=0.5 in c:\\users\\royan\\appdata\\local\\programs\\python\\python310\\lib\\site-packages (from fiona>=1.8.19->geopandas) (0.7.2)\n",
      "Requirement already satisfied: six in c:\\users\\royan\\appdata\\local\\programs\\python\\python310\\lib\\site-packages (from fiona>=1.8.19->geopandas) (1.11.0)\n",
      "Requirement already satisfied: python-dateutil>=2.8.2 in c:\\users\\royan\\appdata\\roaming\\python\\python310\\site-packages (from pandas>=1.1.0->geopandas) (2.8.2)\n",
      "Collecting pytz>=2020.1 (from pandas>=1.1.0->geopandas)\n",
      "  Using cached pytz-2023.3-py2.py3-none-any.whl (502 kB)\n",
      "Requirement already satisfied: tzdata>=2022.1 in c:\\users\\royan\\appdata\\local\\programs\\python\\python310\\lib\\site-packages (from pandas>=1.1.0->geopandas) (2023.3)\n",
      "Requirement already satisfied: numpy>=1.21.0 in c:\\users\\royan\\appdata\\local\\programs\\python\\python310\\lib\\site-packages (from pandas>=1.1.0->geopandas) (1.24.3)\n",
      "Requirement already satisfied: colorama in c:\\users\\royan\\appdata\\local\\programs\\python\\python310\\lib\\site-packages (from click~=8.0->fiona>=1.8.19->geopandas) (0.4.6)\n",
      "Installing collected packages: pytz\n",
      "  Attempting uninstall: pytz\n",
      "    Found existing installation: pytz 2018.5\n",
      "    Uninstalling pytz-2018.5:\n",
      "      Successfully uninstalled pytz-2018.5\n",
      "Successfully installed pytz-2023.3\n",
      "Note: you may need to restart the kernel to use updated packages.\n"
     ]
    },
    {
     "name": "stderr",
     "output_type": "stream",
     "text": [
      "\n",
      "[notice] A new release of pip is available: 23.1.2 -> 23.2.1\n",
      "[notice] To update, run: python.exe -m pip install --upgrade pip\n"
     ]
    }
   ],
   "source": [
    "# %pip install shapely\n",
    "%pip install geopandas\n",
    "from shapely.geometry import Point, shape\n",
    "from geopandas import GeoDataFrame\n",
    "from matplotlib import animation\n",
    "def create_gif_track(df, git_path):\n",
    "    \"\"\" Create git animation of phone track.\n",
    "    \"\"\"\n",
    "\n",
    "    fig, ax = plt.subplots()\n",
    "\n",
    "    imgs = []\n",
    "    df[\"geometry\"] = [Point(lngDeg, latDeg) for lngDeg, latDeg in zip(df[\"LongitudeDegrees\"], df[\"LatitudeDegrees\"])]\n",
    "    gdf = GeoDataFrame(df)\n",
    "    gdf.plot(color=\"lightskyblue\", ax=ax)\n",
    "    \n",
    "    for i in range(0, len(gdf), 10):\n",
    "        p = ax.plot(gdf.iloc[i][\"LongitudeDegrees\"], gdf.iloc[i][\"LatitudeDegrees\"], \n",
    "                    color = 'dodgerblue', marker = 'o', markersize = 10)\n",
    "        imgs.append(p)\n",
    "\n",
    "    # Create animation and saving it\n",
    "    ani = animation.ArtistAnimation(fig, imgs, interval=200)\n",
    "    ani.save(git_path, writer='imagemagick', dpi = 300)"
   ]
  },
  {
   "cell_type": "code",
   "execution_count": 18,
   "id": "1cf5ff4e",
   "metadata": {
    "execution": {
     "iopub.execute_input": "2022-05-04T11:04:34.149991Z",
     "iopub.status.busy": "2022-05-04T11:04:34.149288Z",
     "iopub.status.idle": "2022-05-04T11:10:08.671927Z",
     "shell.execute_reply": "2022-05-04T11:10:08.670850Z"
    },
    "papermill": {
     "duration": 334.633569,
     "end_time": "2022-05-04T11:10:08.729641",
     "exception": false,
     "start_time": "2022-05-04T11:04:34.096072",
     "status": "completed"
    },
    "tags": []
   },
   "outputs": [
    {
     "name": "stderr",
     "output_type": "stream",
     "text": [
      "MovieWriter imagemagick unavailable; using Pillow instead.\n"
     ]
    }
   ],
   "source": [
    "%%time\n",
    "\n",
    "gif_gt = pd.read_csv(\"input/sensor2/ground_truth.csv\")\n",
    "\n",
    "create_gif_track(gif_gt, \"sensor2.gif\")"
   ]
  },
  {
   "attachments": {},
   "cell_type": "markdown",
   "id": "b5b3dec7",
   "metadata": {
    "papermill": {
     "duration": 0.053649,
     "end_time": "2022-05-04T11:10:08.837476",
     "exception": false,
     "start_time": "2022-05-04T11:10:08.783827",
     "status": "completed"
    },
    "tags": []
   },
   "source": [
    "![](./2021_04_29_US_SJC_2_Pixel4_gt.gif)"
   ]
  },
  {
   "cell_type": "code",
   "execution_count": null,
   "id": "1ddf5641",
   "metadata": {
    "papermill": {
     "duration": 0.052738,
     "end_time": "2022-05-04T11:10:08.944287",
     "exception": false,
     "start_time": "2022-05-04T11:10:08.891549",
     "status": "completed"
    },
    "tags": []
   },
   "outputs": [],
   "source": []
  },
  {
   "cell_type": "code",
   "execution_count": null,
   "id": "1f0843b1",
   "metadata": {
    "papermill": {
     "duration": 0.053788,
     "end_time": "2022-05-04T11:10:09.051147",
     "exception": false,
     "start_time": "2022-05-04T11:10:08.997359",
     "status": "completed"
    },
    "tags": []
   },
   "outputs": [],
   "source": []
  }
 ],
 "metadata": {
  "kernelspec": {
   "display_name": "Python 3",
   "language": "python",
   "name": "python3"
  },
  "language_info": {
   "codemirror_mode": {
    "name": "ipython",
    "version": 3
   },
   "file_extension": ".py",
   "mimetype": "text/x-python",
   "name": "python",
   "nbconvert_exporter": "python",
   "pygments_lexer": "ipython3",
   "version": "3.10.11"
  },
  "papermill": {
   "default_parameters": {},
   "duration": 397.320993,
   "end_time": "2022-05-04T11:10:10.327388",
   "environment_variables": {},
   "exception": null,
   "input_path": "__notebook__.ipynb",
   "output_path": "__notebook__.ipynb",
   "parameters": {},
   "start_time": "2022-05-04T11:03:33.006395",
   "version": "2.3.4"
  }
 },
 "nbformat": 4,
 "nbformat_minor": 5
}
